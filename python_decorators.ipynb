{
  "nbformat": 4,
  "nbformat_minor": 0,
  "metadata": {
    "colab": {
      "provenance": []
    },
    "kernelspec": {
      "name": "python3",
      "display_name": "Python 3"
    },
    "language_info": {
      "name": "python"
    }
  },
  "cells": [
    {
      "cell_type": "markdown",
      "metadata": {
        "id": "3pgu410useWk"
      },
      "source": [
        "Python decorators allow you to change the behavior of a function without modifying the function itself.\n"
      ]
    },
    {
      "cell_type": "code",
      "metadata": {
        "colab": {
          "base_uri": "https://localhost:8080/"
        },
        "id": "R0LCaNhGYZzP",
        "outputId": "14e051cb-b0d7-4e41-a820-19263c37c4b0"
      },
      "source": [
        "def parent_fun():\n",
        "  def child_fun():\n",
        "    print(\"hello, i am from child function\")\n",
        "  child_fun()\n",
        "\n",
        "#accessing by using funcion\n",
        "parent_fun()\n",
        "\n",
        "#accessing from variable\n",
        "parent = parent_fun\n",
        "parent()\n"
      ],
      "execution_count": null,
      "outputs": [
        {
          "output_type": "stream",
          "text": [
            "hello, i am from child function\n",
            "hello, i am from child function\n"
          ],
          "name": "stdout"
        }
      ]
    },
    {
      "cell_type": "code",
      "metadata": {
        "colab": {
          "base_uri": "https://localhost:8080/"
        },
        "id": "G8KAfHgkY2Ts",
        "outputId": "1b479883-be34-4048-d10e-6dcac5f7fa1d"
      },
      "source": [
        "def parent_fun():\n",
        "  x=\"hello, i have been declared in parent fun\"\n",
        "  def child_fun():\n",
        "    print(x, \"and printed in child function\")\n",
        "  return child_fun\n",
        "\n",
        "example = parent_fun()\n",
        "example()"
      ],
      "execution_count": null,
      "outputs": [
        {
          "output_type": "stream",
          "text": [
            "hello, i have been declared in parent fun and printed in child function\n"
          ],
          "name": "stdout"
        }
      ]
    },
    {
      "cell_type": "code",
      "metadata": {
        "colab": {
          "base_uri": "https://localhost:8080/"
        },
        "id": "_sKf1jRbZ5Pr",
        "outputId": "3b27b4ed-4f17-4175-8cc3-1ea8293622ba"
      },
      "source": [
        "ex = parent_fun\n",
        "ex()"
      ],
      "execution_count": null,
      "outputs": [
        {
          "output_type": "execute_result",
          "data": {
            "text/plain": [
              "<function __main__.parent_fun.<locals>.child_fun>"
            ]
          },
          "metadata": {
            "tags": []
          },
          "execution_count": 65
        }
      ]
    },
    {
      "cell_type": "markdown",
      "metadata": {
        "id": "3RiQomMXctTH"
      },
      "source": [
        "A function can be passed to another function as an argument."
      ]
    },
    {
      "cell_type": "code",
      "metadata": {
        "colab": {
          "base_uri": "https://localhost:8080/"
        },
        "id": "P9uadZW9aP1d",
        "outputId": "22cafa4a-a66a-4768-d1cb-d9c8e1e9699e"
      },
      "source": [
        "def reminder(func):\n",
        "  print(\"before function execution\")\n",
        "  func()\n",
        "  print(\"after function execution\")\n",
        "\n",
        "def action():\n",
        "  print(\"hello, i am from action function\")\n",
        "reminder(action)"
      ],
      "execution_count": null,
      "outputs": [
        {
          "output_type": "stream",
          "text": [
            "before function execution\n",
            "hello, i am from action function\n",
            "after function execution\n"
          ],
          "name": "stdout"
        }
      ]
    },
    {
      "cell_type": "markdown",
      "metadata": {
        "id": "UD-trug0dot7"
      },
      "source": [
        "Basic structure of python decorator:"
      ]
    },
    {
      "cell_type": "code",
      "metadata": {
        "id": "TXfxtx7QdYm2"
      },
      "source": [
        "from datetime import datetime\n",
        "\n",
        "def python_decorator_ex(fun):\n",
        "  def wrapped_function():\n",
        "    #Do something before function\n",
        "    print(\"start time: \", datetime.today().strftime(\"%Y-%m-%d %H:%M:%S\"))\n",
        "    fun()\n",
        "    print(\"end time: \", datetime.today().strftime(\"%Y-%m-%d %H:%M:%S\"))\n",
        "    print(\"-\"*40)\n",
        "    #Do something after function\n",
        "  return wrapped_function\n",
        "\n"
      ],
      "execution_count": null,
      "outputs": []
    },
    {
      "cell_type": "markdown",
      "metadata": {
        "id": "uWmqgLJ2dnpA"
      },
      "source": [
        "To use decorator we have to attach the function like below code with this @"
      ]
    },
    {
      "cell_type": "code",
      "metadata": {
        "colab": {
          "base_uri": "https://localhost:8080/"
        },
        "id": "Umyizff5eSzP",
        "outputId": "c78093f3-d6da-4680-b36f-68962ff5aee4"
      },
      "source": [
        "@python_decorator_ex\n",
        "def left_triangle_shape():\n",
        "    for i in range(20):\n",
        "      print(\"* \"*i)\n",
        "\n",
        "left_triangle_shape()"
      ],
      "execution_count": null,
      "outputs": [
        {
          "output_type": "stream",
          "text": [
            "start time:  2021-06-19 11:07:45\n",
            "\n",
            "* \n",
            "* * \n",
            "* * * \n",
            "* * * * \n",
            "* * * * * \n",
            "* * * * * * \n",
            "* * * * * * * \n",
            "* * * * * * * * \n",
            "* * * * * * * * * \n",
            "* * * * * * * * * * \n",
            "* * * * * * * * * * * \n",
            "* * * * * * * * * * * * \n",
            "* * * * * * * * * * * * * \n",
            "* * * * * * * * * * * * * * \n",
            "* * * * * * * * * * * * * * * \n",
            "* * * * * * * * * * * * * * * * \n",
            "* * * * * * * * * * * * * * * * * \n",
            "* * * * * * * * * * * * * * * * * * \n",
            "* * * * * * * * * * * * * * * * * * * \n",
            "end time:  2021-06-19 11:07:45\n",
            "----------------------------------------\n"
          ],
          "name": "stdout"
        }
      ]
    },
    {
      "cell_type": "markdown",
      "metadata": {
        "id": "1l7iHzuYuPhl"
      },
      "source": [
        "### I have added *args and **kwargs to the inner functions.\n",
        "\n",
        "- *args will take an unlimited number of arguments of any type, such as 10, True, or 'hello world'\n",
        "\n",
        "- **kwargs will take an unlimited number of keyword arguments, such as count=100, is_authenticated=True, or name='lilly'"
      ]
    },
    {
      "cell_type": "code",
      "metadata": {
        "id": "qjA3w2PtGpcd"
      },
      "source": [
        "from datetime import datetime\n",
        "\n",
        "def python_decorator_ex(fun):\n",
        "  def wrapped_function(*args, **kwargs):\n",
        "    print(\"start time: \", datetime.today().strftime(\"%Y-%m-%d %H:%M:%S\"))\n",
        "    print(\"---------params--------\", *args, **kwargs)\n",
        "\n",
        "    fun(*args, **kwargs)\n",
        "\n",
        "    print(\"end time: \", datetime.today().strftime(\"%Y-%m-%d %H:%M:%S\"))\n",
        "    print(\"-\"*40)\n",
        "\n",
        "  return wrapped_function\n",
        "\n"
      ],
      "execution_count": 1,
      "outputs": []
    },
    {
      "cell_type": "code",
      "metadata": {
        "colab": {
          "base_uri": "https://localhost:8080/"
        },
        "id": "YwKfL3HEGxOw",
        "outputId": "10f4b098-85da-411d-f22a-b20d284560ce"
      },
      "source": [
        "@python_decorator_ex\n",
        "def left_triangle_shape(x):\n",
        "    for i in range(x):\n",
        "      print(\"* \"*i)\n",
        "left_triangle_shape(10)\n",
        "\n",
        "@python_decorator_ex\n",
        "def right_triangle_shape(x):\n",
        "    for i in range(x):\n",
        "      print(\"* \"*(x-i))\n",
        "right_triangle_shape(10)"
      ],
      "execution_count": 2,
      "outputs": [
        {
          "output_type": "stream",
          "name": "stdout",
          "text": [
            "start time:  2024-07-21 15:56:14\n",
            "---------params-------- 10\n",
            "\n",
            "* \n",
            "* * \n",
            "* * * \n",
            "* * * * \n",
            "* * * * * \n",
            "* * * * * * \n",
            "* * * * * * * \n",
            "* * * * * * * * \n",
            "* * * * * * * * * \n",
            "end time:  2024-07-21 15:56:14\n",
            "----------------------------------------\n",
            "start time:  2024-07-21 15:56:14\n",
            "---------params-------- 10\n",
            "* * * * * * * * * * \n",
            "* * * * * * * * * \n",
            "* * * * * * * * \n",
            "* * * * * * * \n",
            "* * * * * * \n",
            "* * * * * \n",
            "* * * * \n",
            "* * * \n",
            "* * \n",
            "* \n",
            "end time:  2024-07-21 15:56:14\n",
            "----------------------------------------\n"
          ]
        }
      ]
    },
    {
      "cell_type": "markdown",
      "metadata": {
        "id": "OB7RZ6fPqFEL"
      },
      "source": [
        "Peak memory is the maximum amount of memory your process has used over its lifetime"
      ]
    },
    {
      "cell_type": "code",
      "metadata": {
        "id": "T25hsvdiealu"
      },
      "source": [
        "import tracemalloc\n",
        "def decorator_with_args(func):\n",
        "  def wrapped_fun(*args, **kwargs):\n",
        "    tracemalloc.start()\n",
        "    print(\"start time: \", datetime.today().strftime(\"%Y-%m-%d %H:%M:%S\"))\n",
        "\n",
        "    func(10, name=\"lilly\", surname=\"mogili\")\n",
        "    current, peak = tracemalloc.get_traced_memory()\n",
        "    print(\"current memory: \", current/10**6, \"MB\")\n",
        "    print(\"peak memory: \", peak/10**6, \"MB\")\n",
        "\n",
        "    print(\"end time: \", datetime.today().strftime(\"%Y-%m-%d %H:%M:%S\"))\n",
        "    tracemalloc.stop()\n",
        "  return wrapped_fun\n"
      ],
      "execution_count": 4,
      "outputs": []
    },
    {
      "cell_type": "code",
      "metadata": {
        "colab": {
          "base_uri": "https://localhost:8080/"
        },
        "id": "aYiHtz-6edm7",
        "outputId": "aa166a22-5baa-48ac-b1df-1d726a2d3750"
      },
      "source": [
        "\n",
        "@decorator_with_args\n",
        "def decorator_example(x, **values):\n",
        "  print(\"name: \", values)\n",
        "  for i in range(x):\n",
        "    print(\"* \"*i)\n",
        "  for i in range(x):\n",
        "    print(\"* \"*(x-i))\n",
        "\n",
        "print(decorator_example(5, name=\"roja\", surname=\"mogili\"))"
      ],
      "execution_count": 5,
      "outputs": [
        {
          "output_type": "stream",
          "name": "stdout",
          "text": [
            "start time:  2024-07-21 15:57:41\n",
            "name:  {'name': 'lilly', 'surname': 'mogili'}\n",
            "\n",
            "* \n",
            "* * \n",
            "* * * \n",
            "* * * * \n",
            "* * * * * \n",
            "* * * * * * \n",
            "* * * * * * * \n",
            "* * * * * * * * \n",
            "* * * * * * * * * \n",
            "* * * * * * * * * * \n",
            "* * * * * * * * * \n",
            "* * * * * * * * \n",
            "* * * * * * * \n",
            "* * * * * * \n",
            "* * * * * \n",
            "* * * * \n",
            "* * * \n",
            "* * \n",
            "* \n",
            "current memory:  0.012095 MB\n",
            "peak memory:  0.012391 MB\n",
            "end time:  2024-07-21 15:57:41\n",
            "None\n"
          ]
        }
      ]
    },
    {
      "cell_type": "code",
      "metadata": {
        "colab": {
          "base_uri": "https://localhost:8080/"
        },
        "id": "bxPmXfZCq0Yx",
        "outputId": "3d96ffd1-855f-47a7-92fd-677185fd13a8"
      },
      "source": [
        "\n",
        "def my_decorator_func(func):\n",
        "  def wrapper_func(*args, **kwargs):\n",
        "    func(*args, **kwargs)\n",
        "    print(*args)\n",
        "  return wrapper_func\n",
        "\n",
        "@my_decorator_func\n",
        "def my_func(my_args, name):\n",
        "    '''Example docstring for function'''\n",
        "\n",
        "    pass\n",
        "\n",
        "print(my_func.__name__)\n",
        "print(my_func.__doc__)"
      ],
      "execution_count": 6,
      "outputs": [
        {
          "output_type": "stream",
          "name": "stdout",
          "text": [
            "wrapper_func\n",
            "None\n"
          ]
        }
      ]
    },
    {
      "cell_type": "code",
      "metadata": {
        "colab": {
          "base_uri": "https://localhost:8080/"
        },
        "id": "JoZmcRnUOSCJ",
        "outputId": "55b10ff3-4ca6-41f7-f481-96d71efa5c58"
      },
      "source": [
        "from functools import wraps\n",
        "\n",
        "def my_decorator_func(func):\n",
        "  @wraps(func)\n",
        "  def wrapper_func(*args, **kwargs):\n",
        "      func(*args, **kwargs)\n",
        "  return wrapper_func\n",
        "\n",
        "@my_decorator_func\n",
        "def my_func(my_args):\n",
        "    '''Example docstring for function'''\n",
        "\n",
        "    pass\n",
        "\n",
        "print(my_func.__name__)\n",
        "print(my_func.__doc__)"
      ],
      "execution_count": null,
      "outputs": [
        {
          "output_type": "stream",
          "text": [
            "my_func\n",
            "Example docstring for function\n"
          ],
          "name": "stdout"
        }
      ]
    },
    {
      "cell_type": "code",
      "metadata": {
        "id": "gahYbjXeqntV"
      },
      "source": [],
      "execution_count": null,
      "outputs": []
    },
    {
      "cell_type": "code",
      "metadata": {
        "colab": {
          "base_uri": "https://localhost:8080/"
        },
        "id": "UtqFWEiOOlZI",
        "outputId": "3134fb4a-42b9-4ce0-f239-df721ce6e439"
      },
      "source": [
        "\n",
        "def recur_fibo(n):\n",
        "   if n <= 1:\n",
        "       return n\n",
        "   else:\n",
        "       return(recur_fibo(n-1) + recur_fibo(n-2))\n",
        "\n",
        "nterms = 10\n",
        "print(\"Fibonacci sequence:\")\n",
        "for i in range(1, nterms+1):\n",
        "    print(recur_fibo(i))\n"
      ],
      "execution_count": null,
      "outputs": [
        {
          "output_type": "stream",
          "text": [
            "Fibonacci sequence:\n",
            "1\n",
            "1\n",
            "2\n",
            "3\n",
            "5\n",
            "8\n",
            "13\n",
            "21\n",
            "34\n",
            "55\n"
          ],
          "name": "stdout"
        }
      ]
    },
    {
      "cell_type": "code",
      "metadata": {
        "id": "4d-73g6vOxnS"
      },
      "source": [],
      "execution_count": null,
      "outputs": []
    }
  ]
}