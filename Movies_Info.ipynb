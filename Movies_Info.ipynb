{
  "nbformat": 4,
  "nbformat_minor": 0,
  "metadata": {
    "colab": {
      "provenance": []
    },
    "kernelspec": {
      "name": "python3",
      "display_name": "Python 3"
    },
    "language_info": {
      "name": "python"
    }
  },
  "cells": [
    {
      "cell_type": "markdown",
      "source": [
        "# **Requirements Installation**"
      ],
      "metadata": {
        "id": "STG1NvVX2zUS"
      }
    },
    {
      "cell_type": "code",
      "execution_count": 2,
      "metadata": {
        "colab": {
          "base_uri": "https://localhost:8080/"
        },
        "id": "kQ_7pSwv2t9Z",
        "outputId": "73c84719-647c-4a25-fc15-70404b706e1a"
      },
      "outputs": [
        {
          "output_type": "stream",
          "name": "stdout",
          "text": [
            "Requirement already satisfied: IMDbPY in /usr/local/lib/python3.10/dist-packages (2022.7.9)\n",
            "Requirement already satisfied: cinemagoer in /usr/local/lib/python3.10/dist-packages (from IMDbPY) (2023.5.1)\n",
            "Requirement already satisfied: SQLAlchemy in /usr/local/lib/python3.10/dist-packages (from cinemagoer->IMDbPY) (2.0.31)\n",
            "Requirement already satisfied: lxml in /usr/local/lib/python3.10/dist-packages (from cinemagoer->IMDbPY) (4.9.4)\n",
            "Requirement already satisfied: typing-extensions>=4.6.0 in /usr/local/lib/python3.10/dist-packages (from SQLAlchemy->cinemagoer->IMDbPY) (4.12.2)\n",
            "Requirement already satisfied: greenlet!=0.4.17 in /usr/local/lib/python3.10/dist-packages (from SQLAlchemy->cinemagoer->IMDbPY) (3.0.3)\n"
          ]
        }
      ],
      "source": [
        "!pip install IMDbPY"
      ]
    },
    {
      "cell_type": "code",
      "source": [
        "import imdb\n",
        "\n",
        "movieDataBase = imdb.IMDb()\n",
        "movieDataBase"
      ],
      "metadata": {
        "colab": {
          "base_uri": "https://localhost:8080/"
        },
        "id": "oqxccx8b23zy",
        "outputId": "e31c2609-3703-4942-f200-f7aaab070a9b"
      },
      "execution_count": 4,
      "outputs": [
        {
          "output_type": "execute_result",
          "data": {
            "text/plain": [
              "<imdb.parser.http.IMDbHTTPAccessSystem at 0x7abed1ec6b60>"
            ]
          },
          "metadata": {},
          "execution_count": 4
        }
      ]
    },
    {
      "cell_type": "code",
      "source": [
        "movies = movieDataBase.search_movie('The Vampire Diaries')\n",
        "\n",
        "def movieDesc(id):\n",
        "  movie = movieDataBase.get_movie(id)\n",
        "\n",
        "  title = movie.get('title', 'N/A')\n",
        "  year = movie.get('year', 'N/A')\n",
        "  rating = movie.get('rating', 'N/A')\n",
        "\n",
        "  print(\"Title: \", title, \" \\n\\tYear: \",f'{year}', \" \\n\\tRating: \",f'{rating}')\n",
        "\n",
        "  if movie.get('directors', 'N/A'):\n",
        "    directors = movie.get('directors', \"None\")\n",
        "    if directors != 'None':\n",
        "      dire = ', '.join(map(str, directors))\n",
        "      print(\" \\tDirectors: \", dire)\n",
        "\n",
        "  if movie.get('cast', 'N/A'):\n",
        "    casting = movie.get('cast', \"None\")\n",
        "    if casting != 'None':\n",
        "      act = ', '.join(map(str, casting))\n",
        "      print(\" \\tActors: \",act)\n",
        "\n",
        "  print('---'*30)\n",
        "\n",
        "\n",
        "for movie in movies:\n",
        "  movieDesc(movie.getID())"
      ],
      "metadata": {
        "colab": {
          "base_uri": "https://localhost:8080/"
        },
        "id": "7kf5PdNE3kPg",
        "outputId": "9f3a72e0-662a-4ca4-fad1-8bb78640bf6d"
      },
      "execution_count": 29,
      "outputs": [
        {
          "output_type": "stream",
          "name": "stdout",
          "text": [
            "Title:  The Vampire Diaries  \n",
            "\tYear:  2009  \n",
            "\tRating:  7.7\n",
            " \tActors:  Paul Wesley, Ian Somerhalder, Kat Graham, Candice King, Zach Roerig, Michael Trevino, Nina Dobrev, Steven R. McQueen, Matthew Davis, Michael Malarkey, Joseph Morgan, Marguerite MacIntyre, Sara Canning, Claire Holt, Susan Walters, Daniel Gillies, Jodi Lyn O'Keefe, Penelope Mitchell, Chris Wood, Kayla Ewell, Melise, Annie Wersching, Tierney Smith, Elizabeth Blackmore, Lily Rose Smith, Jasmine Guy, David Anders, Chris Brochu, Olga Fonda, Scarlett Hefner, Torrey DeVitto, David Alpay, Rick Cosnett, Nathalie Kelley, Teressa Liane, Todd Lasance, Gracie Gillam, Nathaniel Buzolic, Taylor Kinney, Demetrius Bridges, Kristen Gutoskie, Leslie-Anne Panaligan, Arielle Kebbel, Wolé Parks, Shaun Sipos, Phoebe Tonkin, Kelly Hu, Robert Pralgo, Colin Ferguson, Joel Gretsch\n",
            "------------------------------------------------------------------------------------------\n",
            "Title:  The Vampire Diaries: A Darker Truth  \n",
            "\tYear:  2009  \n",
            "\tRating:  6.6\n",
            " \tActors:  Matt Perello, Mohammad Yavari, Molly O'Neill, Kat Slatery\n",
            "------------------------------------------------------------------------------------------\n",
            "Title:  The Vampire Diaries: Forever Yours  \n",
            "\tYear:  2017  \n",
            "\tRating:  8.8\n",
            " \tActors:  David Anders, B.J. Britt, Jasmine Burke, Matthew Davis, Nina Dobrev, Kayla Ewell, Daniel Gillies, Kat Graham, Jasmine Guy, Terri James, Chris Johnson, Candice King, Marguerite MacIntyre, Michael Malarkey, Steven R. McQueen, Joseph Morgan, Robert Pralgo, Zach Roerig, Shaun Sipos, Ian Somerhalder, Michael Trevino, Susan Walters, Paul Wesley, Mohammad Yavari\n",
            "------------------------------------------------------------------------------------------\n",
            "Title:  The Vampire Diaries  \n",
            "\tYear:  1996  \n",
            "\tRating:  7.7\n",
            " \tDirectors:  Patricia Flanigan, Dave Roberts\n",
            " \tActors:  Michael Altobello, Lisa Bonanno, Brittany Carl, Kimberly Cockrell, Lily Fox, Alexandra Goslow, Monte Grix, Sandy Hill, David Holcomb, Sandra Ellis Lafferty, Alicia Nashel, David O'Donnell, Roy Tanner, Angelina Torres\n",
            "------------------------------------------------------------------------------------------\n",
            "Title:  The Vampire Diaries: Stefan's Descent Into Darkness  \n",
            "\tYear:  2012  \n",
            "\tRating:  N/A\n",
            "------------------------------------------------------------------------------------------\n",
            "Title:  The Vampire Sex Diaries  \n",
            "\tYear:  2011  \n",
            "\tRating:  N/A\n",
            " \tDirectors:  Naoyuki Tomomatsu\n",
            " \tActors:  Akie Harada, Amu Ueka\n",
            "------------------------------------------------------------------------------------------\n",
            "Title:  Embrace of the Vampire  \n",
            "\tYear:  1995  \n",
            "\tRating:  4.4\n",
            " \tDirectors:  Anne Goursaud\n",
            " \tActors:  Martin Kemp, Alyssa Milano, Rebecca Ferratti, Glori Gold, Seana Ryan, Sabrina Allen, Harold Pruett, Jennifer Tilly, Rachel True, Jordan Ladd, Robbin Julien, Christopher Utesch, Charlotte Lewis, David Portlock, Gregg Vance, John Riedlinger, Ladd Vance, Lynn Philip Seibel\n",
            "------------------------------------------------------------------------------------------\n",
            "Title:  The Vampire Diaries: The Original Vampires: The Beginning  \n",
            "\tYear:  2012  \n",
            "\tRating:  N/A\n",
            "------------------------------------------------------------------------------------------\n",
            "Title:  Bloodborn  \n",
            "\tYear:  2008  \n",
            "\tRating:  6.5\n",
            " \tDirectors:  Phil Messerer\n",
            " \tActors:  Devon Dionne, Eilis Cahill, JoJo Hristova, Michael Strelow, Myles MacVane, Evan Lucas, Peter Morr, Anthony Morelli, Samantha J. Phillips, Chase Gilbertson, Randall Leddy\n",
            "------------------------------------------------------------------------------------------\n",
            "Title:  The Vampire Diaries: Re#Ash  \n",
            "\tYear:  2012  \n",
            "\tRating:  9.5\n",
            " \tActors:  Emily Chang, Arielle Kebbel, Marguerite MacIntyre, Melise\n",
            "------------------------------------------------------------------------------------------\n",
            "Title:  The Vampire Diaries After Show  \n",
            "\tYear:  2014  \n",
            "\tRating:  N/A\n",
            " \tActors:  Malynda Hale, Meghan Lamontagne\n",
            "------------------------------------------------------------------------------------------\n",
            "Title:  The Serial Killer and Vampire Guardian Angel Diaries  \n",
            "\tYear:  2010  \n",
            "\tRating:  6.8\n",
            " \tDirectors:  David Howling, Lia Scott Price\n",
            " \tActors:  Kevin Cole, Diego Correa, Hacksaw Haures, Michelle Lee, Wendell Nelson, Alyse Pierce\n",
            "------------------------------------------------------------------------------------------\n",
            "Title:  The Vampire Diaries: The Producer's Pages  \n",
            "\tYear:  2012  \n",
            "\tRating:  N/A\n",
            " \tActors:  Julie Plec\n",
            "------------------------------------------------------------------------------------------\n",
            "Title:  The Vampire Diaries Diaries  \n",
            "\tYear:  2017  \n",
            "\tRating:  N/A\n",
            "------------------------------------------------------------------------------------------\n",
            "Title:  Diaries of Annie the Vampire  \n",
            "\tYear:  2012  \n",
            "\tRating:  N/A\n",
            " \tActors:  Summer Roberts\n",
            "------------------------------------------------------------------------------------------\n",
            "Title:  Vampire Diaries... For Real, Though?  \n",
            "\tYear:  2014  \n",
            "\tRating:  N/A\n",
            " \tDirectors:  Stephen Ling\n",
            " \tActors:  Kristina Clifford, Shelby Dash, Jenny Stumme\n",
            "------------------------------------------------------------------------------------------\n",
            "Title:  THE Vampire Diaries  \n",
            "\tYear:  2023  \n",
            "\tRating:  N/A\n",
            "------------------------------------------------------------------------------------------\n",
            "Title:  The Vampire Diaries (2009)  \n",
            "\tYear:  2021  \n",
            "\tRating:  N/A\n",
            "------------------------------------------------------------------------------------------\n",
            "Title:  The Vampire Diaries S8  \n",
            "\tYear:  2018  \n",
            "\tRating:  N/A\n",
            " \tActors:  Mantis Khiralla\n",
            "------------------------------------------------------------------------------------------\n",
            "Title:  Bonus: The Vampire Diaries  \n",
            "\tYear:  2024  \n",
            "\tRating:  N/A\n",
            "------------------------------------------------------------------------------------------\n"
          ]
        }
      ]
    },
    {
      "cell_type": "code",
      "source": [],
      "metadata": {
        "id": "uwUbJrjE3rWU"
      },
      "execution_count": null,
      "outputs": []
    }
  ]
}